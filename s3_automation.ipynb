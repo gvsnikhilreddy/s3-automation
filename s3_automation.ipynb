{
  "nbformat": 4,
  "nbformat_minor": 0,
  "metadata": {
    "colab": {
      "provenance": [],
      "authorship_tag": "ABX9TyM7gsYKuM68/8c7wr3tqMd3",
      "include_colab_link": true
    },
    "kernelspec": {
      "name": "python3",
      "display_name": "Python 3"
    },
    "language_info": {
      "name": "python"
    }
  },
  "cells": [
    {
      "cell_type": "markdown",
      "metadata": {
        "id": "view-in-github",
        "colab_type": "text"
      },
      "source": [
        "<a href=\"https://colab.research.google.com/github/gvsnikhilreddy/s3-automation/blob/main/s3_automation.ipynb\" target=\"_parent\"><img src=\"https://colab.research.google.com/assets/colab-badge.svg\" alt=\"Open In Colab\"/></a>"
      ]
    },
    {
      "cell_type": "code",
      "execution_count": 40,
      "metadata": {
        "colab": {
          "base_uri": "https://localhost:8080/"
        },
        "id": "Irbn3eMfqMBr",
        "outputId": "70730466-009a-4936-b460-94f820947458"
      },
      "outputs": [
        {
          "output_type": "stream",
          "name": "stdout",
          "text": [
            "Requirement already satisfied: spotipy in /usr/local/lib/python3.10/dist-packages (2.24.0)\n",
            "Requirement already satisfied: redis>=3.5.3 in /usr/local/lib/python3.10/dist-packages (from spotipy) (5.2.1)\n",
            "Requirement already satisfied: requests>=2.25.0 in /usr/local/lib/python3.10/dist-packages (from spotipy) (2.32.3)\n",
            "Requirement already satisfied: urllib3>=1.26.0 in /usr/local/lib/python3.10/dist-packages (from spotipy) (2.2.3)\n",
            "Requirement already satisfied: async-timeout>=4.0.3 in /usr/local/lib/python3.10/dist-packages (from redis>=3.5.3->spotipy) (4.0.3)\n",
            "Requirement already satisfied: charset-normalizer<4,>=2 in /usr/local/lib/python3.10/dist-packages (from requests>=2.25.0->spotipy) (3.4.0)\n",
            "Requirement already satisfied: idna<4,>=2.5 in /usr/local/lib/python3.10/dist-packages (from requests>=2.25.0->spotipy) (3.10)\n",
            "Requirement already satisfied: certifi>=2017.4.17 in /usr/local/lib/python3.10/dist-packages (from requests>=2.25.0->spotipy) (2024.8.30)\n",
            "Requirement already satisfied: boto3 in /usr/local/lib/python3.10/dist-packages (1.35.76)\n",
            "Requirement already satisfied: botocore<1.36.0,>=1.35.76 in /usr/local/lib/python3.10/dist-packages (from boto3) (1.35.76)\n",
            "Requirement already satisfied: jmespath<2.0.0,>=0.7.1 in /usr/local/lib/python3.10/dist-packages (from boto3) (1.0.1)\n",
            "Requirement already satisfied: s3transfer<0.11.0,>=0.10.0 in /usr/local/lib/python3.10/dist-packages (from boto3) (0.10.4)\n",
            "Requirement already satisfied: python-dateutil<3.0.0,>=2.1 in /usr/local/lib/python3.10/dist-packages (from botocore<1.36.0,>=1.35.76->boto3) (2.8.2)\n",
            "Requirement already satisfied: urllib3!=2.2.0,<3,>=1.25.4 in /usr/local/lib/python3.10/dist-packages (from botocore<1.36.0,>=1.35.76->boto3) (2.2.3)\n",
            "Requirement already satisfied: six>=1.5 in /usr/local/lib/python3.10/dist-packages (from python-dateutil<3.0.0,>=2.1->botocore<1.36.0,>=1.35.76->boto3) (1.16.0)\n"
          ]
        }
      ],
      "source": [
        "%pip install spotipy\n",
        "!pip install boto3"
      ]
    },
    {
      "cell_type": "code",
      "source": [
        "import spotipy\n",
        "from spotipy.oauth2 import SpotifyClientCredentials\n",
        "import pandas as pd\n",
        "import boto3\n",
        "from datetime import datetime\n",
        "from io import StringIO"
      ],
      "metadata": {
        "id": "NuMvDsGwq8CP"
      },
      "execution_count": 41,
      "outputs": []
    },
    {
      "cell_type": "code",
      "source": [
        "client_credentials_manager = SpotifyClientCredentials(client_id = CLIENT_ID, client_secret = CLIENT_SECRET)"
      ],
      "metadata": {
        "id": "XjGZYOzkrJEs"
      },
      "execution_count": 42,
      "outputs": []
    },
    {
      "cell_type": "code",
      "source": [
        "sp = spotipy.Spotify(client_credentials_manager = client_credentials_manager)"
      ],
      "metadata": {
        "id": "zEcsPiXbrVYF"
      },
      "execution_count": 43,
      "outputs": []
    },
    {
      "cell_type": "code",
      "source": [
        "data = sp.playlist_tracks(\"3cEYpjA9oz9GiPac4AsH4n\")"
      ],
      "metadata": {
        "id": "5g7aiGFnrYTV"
      },
      "execution_count": 44,
      "outputs": []
    },
    {
      "cell_type": "code",
      "source": [
        "album_list = []\n",
        "for row in data['items']:\n",
        "    album_id = row['track']['album']['id']\n",
        "    album_name = row['track']['album']['name']\n",
        "    album_release_date = row['track']['album']['release_date']\n",
        "    album_total_tracks = row['track']['album']['total_tracks']\n",
        "    album_url = row['track']['album']['external_urls']['spotify']\n",
        "    album_element = {'album_id': album_id,'album_name': album_name, 'release_date':album_release_date, 'total_tracks':album_total_tracks, 'url':album_url  }\n",
        "    album_list.append(album_element)\n"
      ],
      "metadata": {
        "id": "xQJSn2c7rdbu"
      },
      "execution_count": 45,
      "outputs": []
    },
    {
      "cell_type": "code",
      "source": [
        "album_df = pd.DataFrame.from_dict(album_list)"
      ],
      "metadata": {
        "id": "ZLXMJTuJrgZl"
      },
      "execution_count": 46,
      "outputs": []
    },
    {
      "cell_type": "code",
      "source": [
        "timestamp = datetime.now().strftime('%Y-%m-%d %H:%M:%S')\n",
        "album_df['Timestamp'] = timestamp\n",
        "\n",
        "# Generate a timestamped file name\n",
        "file_name = f'album_data_{datetime.now().strftime(\"%Y%m%d%H%M%S\")}.csv'\n",
        "\n",
        "# Convert the DataFrame to CSV in memory\n",
        "csv_buffer = StringIO()\n",
        "album_df.to_csv(csv_buffer, index=False)"
      ],
      "metadata": {
        "id": "3y4wOyPjruTa"
      },
      "execution_count": 47,
      "outputs": []
    },
    {
      "cell_type": "code",
      "source": [
        "s3_client = boto3.client(\n",
        "    's3',\n",
        "    aws_access_key_id=AWS_ACCESS_KEY_ID,         # Replace with your AWS Access Key ID\n",
        "    aws_secret_access_key=AWS_SECRET_ACCESS_KEY # Replace with your AWS Secret Access Key\n",
        ")"
      ],
      "metadata": {
        "id": "W4DDEZC-rxVD"
      },
      "execution_count": 48,
      "outputs": []
    },
    {
      "cell_type": "code",
      "source": [
        "bucket_name = 'git-gitactions-s3'"
      ],
      "metadata": {
        "id": "TO27amBir065"
      },
      "execution_count": 49,
      "outputs": []
    },
    {
      "cell_type": "code",
      "source": [
        "try:\n",
        "    s3_client.put_object(Bucket=bucket_name, Key=file_name, Body=csv_buffer.getvalue())\n",
        "    print(f\"File uploaded successfully: s3://{bucket_name}/{file_name}\")\n",
        "except Exception as e:\n",
        "    print(f\"Error uploading file: {e}\")"
      ],
      "metadata": {
        "colab": {
          "base_uri": "https://localhost:8080/"
        },
        "id": "2p6B4b9Rri_2",
        "outputId": "89116019-feb5-4a46-bc80-ba939f0a7d1b"
      },
      "execution_count": 50,
      "outputs": [
        {
          "output_type": "stream",
          "name": "stdout",
          "text": [
            "File uploaded successfully: s3://git-gitactions-s3/album_data_20241209144629.csv\n"
          ]
        }
      ]
    },
    {
      "cell_type": "markdown",
      "source": [
        "# New section"
      ],
      "metadata": {
        "id": "k2fFDuxAqNTz"
      }
    }
  ]
}